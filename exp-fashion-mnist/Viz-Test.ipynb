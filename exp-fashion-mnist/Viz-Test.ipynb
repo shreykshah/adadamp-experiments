{
 "cells": [
  {
   "cell_type": "code",
   "execution_count": 11,
   "metadata": {},
   "outputs": [],
   "source": [
    "import pandas as pd\n",
    "import numpy as np\n",
    "from pathlib import Path\n",
    "import seaborn as sns\n",
    "import matplotlib.pyplot as plt"
   ]
  },
  {
   "cell_type": "code",
   "execution_count": 19,
   "metadata": {},
   "outputs": [
    {
     "name": "stdout",
     "output_type": "stream",
     "text": [
      "['geodamp']\n",
      "['radadamp']\n",
      "['radadamp']\n",
      "['geodamp']\n",
      "['radadamp']\n",
      "['radadamp']\n",
      "['geodamp']\n",
      "['geodamplr']\n",
      "['geodamplr']\n",
      "['radadamp']\n",
      "['adagrad']\n",
      "['geodamplr']\n",
      "['geodamplr']\n",
      "['radadamp']\n",
      "['radadamp']\n"
     ]
    }
   ],
   "source": [
    "DATA_DIR = Path(\"/scratch/sshah/2021-05-26/\")\n",
    "assert DATA_DIR.exists()\n",
    "\n",
    "# def _cook(p: Path) -> pd.DataFrame\n",
    "dfs = []\n",
    "for f in DATA_DIR.glob(\"*test.csv.zip\"):\n",
    "    _df = pd.read_csv(f)\n",
    "    assert _df.tuning.nunique() == 1\n",
    "    if _df.tuning.unique()[0]:\n",
    "        assert _df.tuning.unique()[0] == 1\n",
    "        continue\n",
    "#     if _df.init_seed.unique() != [1000]:\n",
    "#         continue\n",
    "    print(_df.damper.unique())\n",
    "    dfs.append(_df)"
   ]
  },
  {
   "cell_type": "code",
   "execution_count": 55,
   "metadata": {},
   "outputs": [
    {
     "name": "stdout",
     "output_type": "stream",
     "text": [
      "damper\n",
      "adagrad                   [1000]\n",
      "geodamp       [1000, 1002, 1001]\n",
      "geodamplr           [1000, 1001]\n",
      "radadamp      [1002, 1001, 1000]\n",
      "radadamplr          [1000, 1001]\n",
      "Name: init_seed, dtype: object\n"
     ]
    },
    {
     "data": {
      "text/plain": [
       "damper\n",
       "adagrad             [1000]\n",
       "geodamp       [1000, 1001]\n",
       "geodamplr     [1000, 1001]\n",
       "radadamp      [1001, 1000]\n",
       "radadamplr    [1000, 1001]\n",
       "Name: init_seed, dtype: object"
      ]
     },
     "execution_count": 55,
     "metadata": {},
     "output_type": "execute_result"
    }
   ],
   "source": [
    "df = pd.concat(dfs, sort=False)\n",
    "\n",
    "df.loc[(df.initial_batch_size == df.max_batch_size) & (df.damper == \"radadamp\"), \"damper\"] = \"radadamplr\"\n",
    "\n",
    "\n",
    "df[\"epochs_binned\"] = np.round(df[\"epochs\"])\n",
    "df[\"model_updates_binned\"] = np.round(df[\"model_updates\"], decimals=-2)\n",
    "\n",
    "dampers = {\n",
    "    \"geodamplr\": \"SGD\",\n",
    "    \"geodamp\": \"GeoDamp\",\n",
    "    \"radadamp\": \"RadaDamp\",\n",
    "    \"radadamplr\": \"RadaDamp-LR\",\n",
    "    \"adagrad\": \"Adagrad\",\n",
    "}\n",
    "\n",
    "HUE_ORDER = [\"SGD\", \"GeoDamp\", \"RadaDamp\", \"RadaDamp-LR\", \"Adagrad\"]\n",
    "ACC_LIM = (0.865, 0.915)\n",
    "\n",
    "df[\"Optimizer\"] = df[\"damper\"].apply(dampers.get)\n",
    "print(df.groupby(\"damper\").init_seed.unique())\n",
    "df = df[df.init_seed.isin([1000, 1001])].copy()\n",
    "df.groupby(\"damper\").init_seed.unique()"
   ]
  },
  {
   "cell_type": "code",
   "execution_count": 62,
   "metadata": {},
   "outputs": [
    {
     "data": {
      "text/plain": [
       "{'adagrad': 0.8983,\n",
       " 'geodamp': 0.9121,\n",
       " 'geodamplr': 0.9111,\n",
       " 'radadamp': 0.9079,\n",
       " 'radadamplr': 0.9087}"
      ]
     },
     "execution_count": 62,
     "metadata": {},
     "output_type": "execute_result"
    }
   ],
   "source": [
    "d = df[df.epochs >= 190].pivot_table(\n",
    "    index=\"damper\",\n",
    "    values=\"test_accuracy\",\n",
    "    aggfunc=\"mean\",\n",
    ").to_dict()[\"test_accuracy\"]\n",
    "{k: np.round(v, 4) for k, v in d.items()}"
   ]
  },
  {
   "cell_type": "code",
   "execution_count": 47,
   "metadata": {},
   "outputs": [
    {
     "name": "stdout",
     "output_type": "stream",
     "text": [
      "Index(['epoch_time', 'initial_batch_size', 'max_batch_size',\n",
      "       'batch_growth_rate', 'dampingfactor', 'dampingdelay', 'epochs',\n",
      "       'verbose', 'lr', 'no_cuda', 'random_state', 'init_seed', 'damper',\n",
      "       'dataset', 'approx_loss', 'test_freq', 'rho', 'dwell', 'approx_rate',\n",
      "       'nesterov', 'momentum', 'weight_decay', 'ident', 'tuning',\n",
      "       'model_updates', 'num_examples', 'batch_loss', 'num_params',\n",
      "       'len_dataset', 'device_type', 'loss_name', 'opt_name', 'opt_param_lr',\n",
      "       'opt_param_momentum', 'opt_param_dampening', 'opt_param_weight_decay',\n",
      "       'opt_param_nesterov', 'test_loss', 'test_accuracy', 'test_device',\n",
      "       'test_prefix', '_epochs', '_num_examples', '_train_time', 'damping',\n",
      "       '_step_time', 'time', 'step_time', 'lr_', 'batch_size_', 'fn_class',\n",
      "       '_initial_norm2', '_batch_grad_norm2', '_batch_grad_norm',\n",
      "       '_initial_loss', '_grad_mavg', '_loss_mavg', '_initial_factor',\n",
      "       'opt_param_lr_decay', 'opt_param_eps',\n",
      "       'opt_param_initial_accumulator_value', 'epochs_binned',\n",
      "       'model_updates_binned', 'Optimizer'],\n",
      "      dtype='object')\n"
     ]
    },
    {
     "data": {
      "text/html": [
       "<div>\n",
       "<style scoped>\n",
       "    .dataframe tbody tr th:only-of-type {\n",
       "        vertical-align: middle;\n",
       "    }\n",
       "\n",
       "    .dataframe tbody tr th {\n",
       "        vertical-align: top;\n",
       "    }\n",
       "\n",
       "    .dataframe thead th {\n",
       "        text-align: right;\n",
       "    }\n",
       "</style>\n",
       "<table border=\"1\" class=\"dataframe\">\n",
       "  <thead>\n",
       "    <tr style=\"text-align: right;\">\n",
       "      <th></th>\n",
       "      <th>loss_name</th>\n",
       "      <th>rho</th>\n",
       "      <th>dwell</th>\n",
       "      <th>verbose</th>\n",
       "      <th>no_cuda</th>\n",
       "      <th>random_state</th>\n",
       "      <th>init_seed</th>\n",
       "      <th>damper</th>\n",
       "      <th>approx_loss</th>\n",
       "      <th>tuning</th>\n",
       "    </tr>\n",
       "    <tr>\n",
       "      <th>damper</th>\n",
       "      <th></th>\n",
       "      <th></th>\n",
       "      <th></th>\n",
       "      <th></th>\n",
       "      <th></th>\n",
       "      <th></th>\n",
       "      <th></th>\n",
       "      <th></th>\n",
       "      <th></th>\n",
       "      <th></th>\n",
       "    </tr>\n",
       "  </thead>\n",
       "  <tbody>\n",
       "    <tr>\n",
       "      <td>adagrad</td>\n",
       "      <td>1</td>\n",
       "      <td>1</td>\n",
       "      <td>1</td>\n",
       "      <td>1</td>\n",
       "      <td>1</td>\n",
       "      <td>1</td>\n",
       "      <td>1</td>\n",
       "      <td>1</td>\n",
       "      <td>1</td>\n",
       "      <td>1</td>\n",
       "    </tr>\n",
       "    <tr>\n",
       "      <td>geodamp</td>\n",
       "      <td>1</td>\n",
       "      <td>1</td>\n",
       "      <td>1</td>\n",
       "      <td>1</td>\n",
       "      <td>1</td>\n",
       "      <td>2</td>\n",
       "      <td>2</td>\n",
       "      <td>1</td>\n",
       "      <td>1</td>\n",
       "      <td>1</td>\n",
       "    </tr>\n",
       "    <tr>\n",
       "      <td>geodamplr</td>\n",
       "      <td>1</td>\n",
       "      <td>2</td>\n",
       "      <td>1</td>\n",
       "      <td>1</td>\n",
       "      <td>1</td>\n",
       "      <td>2</td>\n",
       "      <td>2</td>\n",
       "      <td>1</td>\n",
       "      <td>1</td>\n",
       "      <td>1</td>\n",
       "    </tr>\n",
       "    <tr>\n",
       "      <td>radadamp</td>\n",
       "      <td>1</td>\n",
       "      <td>1</td>\n",
       "      <td>1</td>\n",
       "      <td>1</td>\n",
       "      <td>1</td>\n",
       "      <td>2</td>\n",
       "      <td>2</td>\n",
       "      <td>1</td>\n",
       "      <td>1</td>\n",
       "      <td>1</td>\n",
       "    </tr>\n",
       "    <tr>\n",
       "      <td>radadamplr</td>\n",
       "      <td>1</td>\n",
       "      <td>1</td>\n",
       "      <td>1</td>\n",
       "      <td>1</td>\n",
       "      <td>1</td>\n",
       "      <td>2</td>\n",
       "      <td>2</td>\n",
       "      <td>1</td>\n",
       "      <td>1</td>\n",
       "      <td>1</td>\n",
       "    </tr>\n",
       "  </tbody>\n",
       "</table>\n",
       "</div>"
      ],
      "text/plain": [
       "            loss_name  rho  dwell  verbose  no_cuda  random_state  init_seed  \\\n",
       "damper                                                                         \n",
       "adagrad             1    1      1        1        1             1          1   \n",
       "geodamp             1    1      1        1        1             2          2   \n",
       "geodamplr           1    2      1        1        1             2          2   \n",
       "radadamp            1    1      1        1        1             2          2   \n",
       "radadamplr          1    1      1        1        1             2          2   \n",
       "\n",
       "            damper  approx_loss  tuning  \n",
       "damper                                   \n",
       "adagrad          1            1       1  \n",
       "geodamp          1            1       1  \n",
       "geodamplr        1            1       1  \n",
       "radadamp         1            1       1  \n",
       "radadamplr       1            1       1  "
      ]
     },
     "execution_count": 47,
     "metadata": {},
     "output_type": "execute_result"
    }
   ],
   "source": [
    "cols = ['initial_batch_size', 'max_batch_size', 'dampingfactor', 'dampingdelay', 'lr',\n",
    "        'nesterov', 'momentum', 'weight_decay', 'init_seed']\n",
    "print(df.columns)\n",
    "cols = [c for c in df.columns if \"opt_param\" in c]\n",
    "cols = [\"loss_name\", \"rho\", \"dwell\", \"verbose\", \"no_cuda\", \"random_state\", \"init_seed\", \"damper\", \"approx_loss\", \"tuning\"]\n",
    "df.groupby(\"damper\")[cols].nunique()"
   ]
  },
  {
   "cell_type": "code",
   "execution_count": 48,
   "metadata": {},
   "outputs": [
    {
     "data": {
      "text/plain": [
       "Index(['epoch_time', 'initial_batch_size', 'max_batch_size',\n",
       "       'batch_growth_rate', 'dampingfactor', 'dampingdelay', 'epochs',\n",
       "       'verbose', 'lr', 'no_cuda', 'random_state', 'init_seed', 'damper',\n",
       "       'dataset', 'approx_loss', 'test_freq', 'rho', 'dwell', 'approx_rate',\n",
       "       'nesterov', 'momentum', 'weight_decay', 'ident', 'tuning',\n",
       "       'model_updates', 'num_examples', 'batch_loss', 'num_params',\n",
       "       'len_dataset', 'device_type', 'loss_name', 'opt_name', 'opt_param_lr',\n",
       "       'opt_param_momentum', 'opt_param_dampening', 'opt_param_weight_decay',\n",
       "       'opt_param_nesterov', 'test_loss', 'test_accuracy', 'test_device',\n",
       "       'test_prefix', '_epochs', '_num_examples', '_train_time', 'damping',\n",
       "       '_step_time', 'time', 'step_time', 'lr_', 'batch_size_', 'fn_class',\n",
       "       '_initial_norm2', '_batch_grad_norm2', '_batch_grad_norm',\n",
       "       '_initial_loss', '_grad_mavg', '_loss_mavg', '_initial_factor',\n",
       "       'opt_param_lr_decay', 'opt_param_eps',\n",
       "       'opt_param_initial_accumulator_value', 'epochs_binned',\n",
       "       'model_updates_binned', 'Optimizer'],\n",
       "      dtype='object')"
      ]
     },
     "execution_count": 48,
     "metadata": {},
     "output_type": "execute_result"
    }
   ],
   "source": [
    "df.columns"
   ]
  },
  {
   "cell_type": "code",
   "execution_count": 49,
   "metadata": {},
   "outputs": [
    {
     "data": {
      "text/plain": [
       "damper\n",
       "adagrad             [1000]\n",
       "geodamp       [1000, 1001]\n",
       "geodamplr     [1000, 1001]\n",
       "radadamp      [1001, 1000]\n",
       "radadamplr    [1000, 1001]\n",
       "Name: init_seed, dtype: object"
      ]
     },
     "execution_count": 49,
     "metadata": {},
     "output_type": "execute_result"
    }
   ],
   "source": [
    "df.groupby(\"damper\")[\"init_seed\"].unique()"
   ]
  },
  {
   "cell_type": "code",
   "execution_count": 50,
   "metadata": {},
   "outputs": [
    {
     "data": {
      "text/html": [
       "<div>\n",
       "<style scoped>\n",
       "    .dataframe tbody tr th:only-of-type {\n",
       "        vertical-align: middle;\n",
       "    }\n",
       "\n",
       "    .dataframe tbody tr th {\n",
       "        vertical-align: top;\n",
       "    }\n",
       "\n",
       "    .dataframe thead th {\n",
       "        text-align: right;\n",
       "    }\n",
       "</style>\n",
       "<table border=\"1\" class=\"dataframe\">\n",
       "  <thead>\n",
       "    <tr style=\"text-align: right;\">\n",
       "      <th></th>\n",
       "      <th>epoch_time</th>\n",
       "      <th>initial_batch_size</th>\n",
       "      <th>max_batch_size</th>\n",
       "      <th>batch_growth_rate</th>\n",
       "      <th>dampingfactor</th>\n",
       "      <th>dampingdelay</th>\n",
       "      <th>epochs</th>\n",
       "      <th>verbose</th>\n",
       "      <th>lr</th>\n",
       "      <th>no_cuda</th>\n",
       "      <th>...</th>\n",
       "      <th>_initial_loss</th>\n",
       "      <th>_grad_mavg</th>\n",
       "      <th>_loss_mavg</th>\n",
       "      <th>_initial_factor</th>\n",
       "      <th>opt_param_lr_decay</th>\n",
       "      <th>opt_param_eps</th>\n",
       "      <th>opt_param_initial_accumulator_value</th>\n",
       "      <th>epochs_binned</th>\n",
       "      <th>model_updates_binned</th>\n",
       "      <th>Optimizer</th>\n",
       "    </tr>\n",
       "  </thead>\n",
       "  <tbody>\n",
       "    <tr>\n",
       "      <td>0</td>\n",
       "      <td>1.622022e+09</td>\n",
       "      <td>256</td>\n",
       "      <td>1024</td>\n",
       "      <td>0.01</td>\n",
       "      <td>1.219231</td>\n",
       "      <td>10</td>\n",
       "      <td>0.000000</td>\n",
       "      <td>True</td>\n",
       "      <td>0.005</td>\n",
       "      <td>True</td>\n",
       "      <td>...</td>\n",
       "      <td>NaN</td>\n",
       "      <td>NaN</td>\n",
       "      <td>NaN</td>\n",
       "      <td>NaN</td>\n",
       "      <td>NaN</td>\n",
       "      <td>NaN</td>\n",
       "      <td>NaN</td>\n",
       "      <td>0.0</td>\n",
       "      <td>0</td>\n",
       "      <td>GeoDamp</td>\n",
       "    </tr>\n",
       "    <tr>\n",
       "      <td>1</td>\n",
       "      <td>1.622022e+09</td>\n",
       "      <td>256</td>\n",
       "      <td>1024</td>\n",
       "      <td>0.01</td>\n",
       "      <td>1.219231</td>\n",
       "      <td>10</td>\n",
       "      <td>1.002667</td>\n",
       "      <td>True</td>\n",
       "      <td>0.005</td>\n",
       "      <td>True</td>\n",
       "      <td>...</td>\n",
       "      <td>NaN</td>\n",
       "      <td>NaN</td>\n",
       "      <td>NaN</td>\n",
       "      <td>NaN</td>\n",
       "      <td>NaN</td>\n",
       "      <td>NaN</td>\n",
       "      <td>NaN</td>\n",
       "      <td>1.0</td>\n",
       "      <td>200</td>\n",
       "      <td>GeoDamp</td>\n",
       "    </tr>\n",
       "    <tr>\n",
       "      <td>2</td>\n",
       "      <td>1.622022e+09</td>\n",
       "      <td>256</td>\n",
       "      <td>1024</td>\n",
       "      <td>0.01</td>\n",
       "      <td>1.219231</td>\n",
       "      <td>10</td>\n",
       "      <td>2.005333</td>\n",
       "      <td>True</td>\n",
       "      <td>0.005</td>\n",
       "      <td>True</td>\n",
       "      <td>...</td>\n",
       "      <td>NaN</td>\n",
       "      <td>NaN</td>\n",
       "      <td>NaN</td>\n",
       "      <td>NaN</td>\n",
       "      <td>NaN</td>\n",
       "      <td>NaN</td>\n",
       "      <td>NaN</td>\n",
       "      <td>2.0</td>\n",
       "      <td>500</td>\n",
       "      <td>GeoDamp</td>\n",
       "    </tr>\n",
       "    <tr>\n",
       "      <td>3</td>\n",
       "      <td>1.622022e+09</td>\n",
       "      <td>256</td>\n",
       "      <td>1024</td>\n",
       "      <td>0.01</td>\n",
       "      <td>1.219231</td>\n",
       "      <td>10</td>\n",
       "      <td>3.008000</td>\n",
       "      <td>True</td>\n",
       "      <td>0.005</td>\n",
       "      <td>True</td>\n",
       "      <td>...</td>\n",
       "      <td>NaN</td>\n",
       "      <td>NaN</td>\n",
       "      <td>NaN</td>\n",
       "      <td>NaN</td>\n",
       "      <td>NaN</td>\n",
       "      <td>NaN</td>\n",
       "      <td>NaN</td>\n",
       "      <td>3.0</td>\n",
       "      <td>700</td>\n",
       "      <td>GeoDamp</td>\n",
       "    </tr>\n",
       "    <tr>\n",
       "      <td>4</td>\n",
       "      <td>1.622022e+09</td>\n",
       "      <td>256</td>\n",
       "      <td>1024</td>\n",
       "      <td>0.01</td>\n",
       "      <td>1.219231</td>\n",
       "      <td>10</td>\n",
       "      <td>4.010667</td>\n",
       "      <td>True</td>\n",
       "      <td>0.005</td>\n",
       "      <td>True</td>\n",
       "      <td>...</td>\n",
       "      <td>NaN</td>\n",
       "      <td>NaN</td>\n",
       "      <td>NaN</td>\n",
       "      <td>NaN</td>\n",
       "      <td>NaN</td>\n",
       "      <td>NaN</td>\n",
       "      <td>NaN</td>\n",
       "      <td>4.0</td>\n",
       "      <td>900</td>\n",
       "      <td>GeoDamp</td>\n",
       "    </tr>\n",
       "  </tbody>\n",
       "</table>\n",
       "<p>5 rows × 64 columns</p>\n",
       "</div>"
      ],
      "text/plain": [
       "     epoch_time  initial_batch_size  max_batch_size  batch_growth_rate  \\\n",
       "0  1.622022e+09                 256            1024               0.01   \n",
       "1  1.622022e+09                 256            1024               0.01   \n",
       "2  1.622022e+09                 256            1024               0.01   \n",
       "3  1.622022e+09                 256            1024               0.01   \n",
       "4  1.622022e+09                 256            1024               0.01   \n",
       "\n",
       "   dampingfactor  dampingdelay    epochs  verbose     lr  no_cuda  ...  \\\n",
       "0       1.219231            10  0.000000     True  0.005     True  ...   \n",
       "1       1.219231            10  1.002667     True  0.005     True  ...   \n",
       "2       1.219231            10  2.005333     True  0.005     True  ...   \n",
       "3       1.219231            10  3.008000     True  0.005     True  ...   \n",
       "4       1.219231            10  4.010667     True  0.005     True  ...   \n",
       "\n",
       "   _initial_loss  _grad_mavg _loss_mavg _initial_factor  opt_param_lr_decay  \\\n",
       "0            NaN         NaN        NaN             NaN                 NaN   \n",
       "1            NaN         NaN        NaN             NaN                 NaN   \n",
       "2            NaN         NaN        NaN             NaN                 NaN   \n",
       "3            NaN         NaN        NaN             NaN                 NaN   \n",
       "4            NaN         NaN        NaN             NaN                 NaN   \n",
       "\n",
       "   opt_param_eps  opt_param_initial_accumulator_value  epochs_binned  \\\n",
       "0            NaN                                  NaN            0.0   \n",
       "1            NaN                                  NaN            1.0   \n",
       "2            NaN                                  NaN            2.0   \n",
       "3            NaN                                  NaN            3.0   \n",
       "4            NaN                                  NaN            4.0   \n",
       "\n",
       "   model_updates_binned  Optimizer  \n",
       "0                     0    GeoDamp  \n",
       "1                   200    GeoDamp  \n",
       "2                   500    GeoDamp  \n",
       "3                   700    GeoDamp  \n",
       "4                   900    GeoDamp  \n",
       "\n",
       "[5 rows x 64 columns]"
      ]
     },
     "execution_count": 50,
     "metadata": {},
     "output_type": "execute_result"
    }
   ],
   "source": [
    "df.head()"
   ]
  },
  {
   "cell_type": "code",
   "execution_count": 51,
   "metadata": {},
   "outputs": [],
   "source": [
    "def lineplot(\n",
    "    *, x, y, hue, hue_order, ax, data, aggfunc=\"mean\",\n",
    "):\n",
    "    for h in hue_order:\n",
    "        show = data[data[hue] == h]\n",
    "        if not len(show):\n",
    "            continue\n",
    "        middle = show.pivot_table(index=x, values=y, aggfunc=aggfunc)\n",
    "        ax.plot(middle.index, middle.to_numpy(), label=h)\n",
    "    return ax\n",
    "\n",
    "PERC_FORMAT = plt.FuncFormatter(lambda x, _: f\"{int(100 * x)}%\")\n",
    "MU_FORMAT = plt.FuncFormatter(lambda x, _: f\"{int(x / 1000)}\")\n"
   ]
  },
  {
   "cell_type": "code",
   "execution_count": 74,
   "metadata": {},
   "outputs": [
    {
     "name": "stdout",
     "output_type": "stream",
     "text": [
      "[   0.  200.  400.  800. 1000. 1200. 1400. 1600. 1800. 2200.]\n"
     ]
    },
    {
     "data": {
      "image/png": "[encoded data removed]",
      "text/plain": [
       "<Figure size 216x216 with 1 Axes>"
      ]
     },
     "metadata": {
      "needs_background": "light"
     },
     "output_type": "display_data"
    }
   ],
   "source": [
    "w = 3\n",
    "fig, ax = plt.subplots(figsize=(w, w))\n",
    "\n",
    "N = 200\n",
    "df[\"model_updates_binned2\"] = np.round(df[\"model_updates\"] / N) * N\n",
    "\n",
    "print(df.model_updates_binned2.unique()[:10])\n",
    "ax = lineplot(\n",
    "    x=\"model_updates_binned2\",\n",
    "    y=\"test_accuracy\",\n",
    "    hue=\"Optimizer\",\n",
    "#     aggfunc=\"max\",\n",
    "#     aggfunc=lambda x: np.percentile(x, 75),\n",
    "    aggfunc=\"mean\",\n",
    "    hue_order=HUE_ORDER,\n",
    "    ax=ax,\n",
    "    data=df,\n",
    ")\n",
    "# ax.legend(loc=\"best\")\n",
    "ax.set_ylim(*ACC_LIM)\n",
    "ax.set_xlim(0, None)\n",
    "ax.yaxis.set_major_formatter(PERC_FORMAT)\n",
    "ax.xaxis.set_major_formatter(MU_FORMAT)\n",
    "# ax.set_xscale(\"log\", basex=2)\n",
    "# ax.set_xlim(1000, None)\n",
    "ax.xaxis.set_major_locator(plt.FixedLocator([i * 1000 for i in [0, 5, 10, 15, 20, 30, 40]]))\n",
    "\n",
    "ax.grid(alpha=0.5)\n",
    "ax.set_ylabel(\"Test accuracy\")\n",
    "ax.set_xlabel(\"Model updates\\n(thousands, binned)\")\n",
    "fig.savefig(\"acc_mu.png\", dpi=300, bbox_inches=\"tight\")"
   ]
  },
  {
   "cell_type": "code",
   "execution_count": 76,
   "metadata": {},
   "outputs": [
    {
     "data": {
      "image/png": "[encoded data removed]",
      "text/plain": [
       "<Figure size 216x216 with 1 Axes>"
      ]
     },
     "metadata": {
      "needs_background": "light"
     },
     "output_type": "display_data"
    }
   ],
   "source": [
    "fig, ax = plt.subplots(figsize=(w, w))\n",
    "\n",
    "df[\"epochs_binned\"] = (df.epochs / 1).astype(int) * 1\n",
    "ax = lineplot(\n",
    "    x=\"epochs_binned\",\n",
    "    y=\"test_accuracy\",\n",
    "    hue=\"Optimizer\",\n",
    "    hue_order=HUE_ORDER,\n",
    "    ax=ax,\n",
    "    data=df[df.epochs_binned.isin([1 * i for i in range(1000)])],\n",
    "    aggfunc=\"mean\",\n",
    ")\n",
    "ax.set_ylim(*ACC_LIM)\n",
    "ax.set_xlim(0, None)\n",
    "ax.grid(alpha=0.5)\n",
    "ax.yaxis.set_major_formatter(PERC_FORMAT)\n",
    "ax.set_ylabel(\"Test accuracy\")\n",
    "ax.set_xlabel(\"Epochs (binned)\")\n",
    "ax.legend(loc=\"best\")\n",
    "fig.savefig(\"epochs-acc.png\", dpi=300, bbox_inches=\"tight\")"
   ]
  },
  {
   "cell_type": "code",
   "execution_count": null,
   "metadata": {},
   "outputs": [],
   "source": []
  },
  {
   "cell_type": "code",
   "execution_count": 54,
   "metadata": {},
   "outputs": [
    {
     "data": {
      "image/png": "[encoded data removed]",
      "text/plain": [
       "<Figure size 216x216 with 1 Axes>"
      ]
     },
     "metadata": {
      "needs_background": "light"
     },
     "output_type": "display_data"
    }
   ],
   "source": [
    "fig, ax = plt.subplots(figsize=(w, w))\n",
    "\n",
    "show = df.copy()\n",
    "idx = show.Optimizer == \"RadaDamp\"\n",
    "ax = lineplot(\n",
    "    x=\"model_updates\",\n",
    "    y=\"batch_size_\",\n",
    "    hue=\"Optimizer\",\n",
    "    hue_order=HUE_ORDER,\n",
    "    ax=ax,\n",
    "    data=show[show.damper.isin([\"radadamp\", \"geodamp\"])],\n",
    ")\n",
    "ax.set_yscale(\"log\", basey=2)\n",
    "ax.grid(alpha=0.6)\n",
    "ax.set_ylabel(\"Batch size\")\n",
    "ax.set_xlabel(\"Model updates (thousands)\")\n",
    "ylocs = [2**(i/2) for i in range(8, 30)]\n",
    "ax.yaxis.set_major_locator(plt.FixedLocator(ylocs))\n",
    "def _log_fmt(x, _):\n",
    "    pwr = np.log2(x)\n",
    "    if abs(pwr % 1.0) < 0.1:\n",
    "        pwr = int(pwr)\n",
    "    return \"$2^{\" + str(pwr) + \"}$\"\n",
    "ax.yaxis.set_major_formatter(plt.FuncFormatter(_log_fmt))\n",
    "ax.xaxis.set_major_formatter(MU_FORMAT)\n",
    "ax.set_xlim(0, 20e3)\n",
    "\n",
    "x = np.linspace(0, 20e3)\n",
    "r = 5e-4\n",
    "y = 2**(r*x + 8)\n",
    "ax.plot(x, np.clip(y, 256, 1024), \"C1--\", label=\"pow$2(r)$\")\n",
    "\n",
    "r = 3e-4\n",
    "y = 2**(r*x + 7)\n",
    "ax.plot(x, np.clip(y, 256, 1024), \"C0--\", label=\"pow$2(g)$\")\n",
    "ax.legend(loc=\"best\")\n",
    "fig.savefig(\"bs.png\", dpi=300, bbox_inches=\"tight\")"
   ]
  },
  {
   "cell_type": "code",
   "execution_count": null,
   "metadata": {},
   "outputs": [],
   "source": []
  }
 ],
 "metadata": {
  "kernelspec": {
   "display_name": "Python 3",
   "language": "python",
   "name": "python3"
  },
  "language_info": {
   "codemirror_mode": {
    "name": "ipython",
    "version": 3
   },
   "file_extension": ".py",
   "mimetype": "text/x-python",
   "name": "python",
   "nbconvert_exporter": "python",
   "pygments_lexer": "ipython3",
   "version": "3.7.4"
  }
 },
 "nbformat": 4,
 "nbformat_minor": 4
}
