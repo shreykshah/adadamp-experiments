{
 "cells": [
  {
   "cell_type": "code",
   "execution_count": 1,
   "metadata": {},
   "outputs": [],
   "source": [
    "import pandas as pd\n",
    "import numpy as np\n",
    "from pathlib import Path\n",
    "import seaborn as sns\n",
    "import matplotlib.pyplot as plt"
   ]
  },
  {
   "cell_type": "code",
   "execution_count": 2,
   "metadata": {},
   "outputs": [],
   "source": [
    "DATA_DIR = Path(\"/scratch/sshah/2021-05-25/\")\n",
    "assert DATA_DIR.exists()\n",
    "\n",
    "# def _cook(p: Path) -> pd.DataFrame\n",
    "dfs = []\n",
    "for f in DATA_DIR.glob(\"*test.csv.zip\"):\n",
    "    dfs.append(pd.read_csv(f))"
   ]
  },
  {
   "cell_type": "code",
   "execution_count": 3,
   "metadata": {},
   "outputs": [],
   "source": [
    "df = pd.concat(dfs, sort=False)\n",
    "\n",
    "df.loc[(df.initial_batch_size == df.max_batch_size) & (df.damper == \"radadamp\"), \"damper\"] = \"radadamplr\"\n",
    "\n",
    "df[\"epochs_binned\"] = np.round(df[\"epochs\"])\n",
    "df[\"model_updates_binned\"] = np.round(df[\"model_updates\"], decimals=-2)\n",
    "\n",
    "dampers = {\n",
    "    \"geodamplr\": \"SGD\",\n",
    "    \"geodamp\": \"GeoDamp\",\n",
    "    \"radadamp\": \"RadaDamp\",\n",
    "    \"radadamplr\": \"RadaDamp-LR\",\n",
    "    \"adagrad\": \"Adagrad\",\n",
    "}\n",
    "\n",
    "HUE_ORDER = [\"SGD\", \"GeoDamp\", \"RadaDamp\", \"RadaDamp-LR\", \"Adagrad\"]\n",
    "ACC_LIM = (0.85, 0.92)\n",
    "\n",
    "df[\"Optimizer\"] = df[\"damper\"].apply(dampers.get)"
   ]
  },
  {
   "cell_type": "code",
   "execution_count": 4,
   "metadata": {},
   "outputs": [
    {
     "data": {
      "text/html": [
       "<div>\n",
       "<style scoped>\n",
       "    .dataframe tbody tr th:only-of-type {\n",
       "        vertical-align: middle;\n",
       "    }\n",
       "\n",
       "    .dataframe tbody tr th {\n",
       "        vertical-align: top;\n",
       "    }\n",
       "\n",
       "    .dataframe thead th {\n",
       "        text-align: right;\n",
       "    }\n",
       "</style>\n",
       "<table border=\"1\" class=\"dataframe\">\n",
       "  <thead>\n",
       "    <tr style=\"text-align: right;\">\n",
       "      <th></th>\n",
       "      <th>epoch_time</th>\n",
       "      <th>initial_batch_size</th>\n",
       "      <th>max_batch_size</th>\n",
       "      <th>batch_growth_rate</th>\n",
       "      <th>dampingfactor</th>\n",
       "      <th>dampingdelay</th>\n",
       "      <th>epochs</th>\n",
       "      <th>verbose</th>\n",
       "      <th>lr</th>\n",
       "      <th>no_cuda</th>\n",
       "      <th>...</th>\n",
       "      <th>step_time</th>\n",
       "      <th>lr_</th>\n",
       "      <th>batch_size_</th>\n",
       "      <th>_initial_factor</th>\n",
       "      <th>opt_param_lr_decay</th>\n",
       "      <th>opt_param_eps</th>\n",
       "      <th>opt_param_initial_accumulator_value</th>\n",
       "      <th>epochs_binned</th>\n",
       "      <th>model_updates_binned</th>\n",
       "      <th>Optimizer</th>\n",
       "    </tr>\n",
       "  </thead>\n",
       "  <tbody>\n",
       "    <tr>\n",
       "      <td>0</td>\n",
       "      <td>1.621967e+09</td>\n",
       "      <td>256</td>\n",
       "      <td>1024</td>\n",
       "      <td>0.01</td>\n",
       "      <td>5.0</td>\n",
       "      <td>5</td>\n",
       "      <td>0.000000</td>\n",
       "      <td>True</td>\n",
       "      <td>0.005</td>\n",
       "      <td>True</td>\n",
       "      <td>...</td>\n",
       "      <td>NaN</td>\n",
       "      <td>NaN</td>\n",
       "      <td>NaN</td>\n",
       "      <td>NaN</td>\n",
       "      <td>NaN</td>\n",
       "      <td>NaN</td>\n",
       "      <td>NaN</td>\n",
       "      <td>0.0</td>\n",
       "      <td>0</td>\n",
       "      <td>RadaDamp</td>\n",
       "    </tr>\n",
       "    <tr>\n",
       "      <td>1</td>\n",
       "      <td>1.621968e+09</td>\n",
       "      <td>256</td>\n",
       "      <td>1024</td>\n",
       "      <td>0.01</td>\n",
       "      <td>5.0</td>\n",
       "      <td>5</td>\n",
       "      <td>1.001646</td>\n",
       "      <td>True</td>\n",
       "      <td>0.005</td>\n",
       "      <td>True</td>\n",
       "      <td>...</td>\n",
       "      <td>0.265678</td>\n",
       "      <td>0.005</td>\n",
       "      <td>260.0</td>\n",
       "      <td>2.237724</td>\n",
       "      <td>NaN</td>\n",
       "      <td>NaN</td>\n",
       "      <td>NaN</td>\n",
       "      <td>1.0</td>\n",
       "      <td>200</td>\n",
       "      <td>RadaDamp</td>\n",
       "    </tr>\n",
       "    <tr>\n",
       "      <td>2</td>\n",
       "      <td>1.621968e+09</td>\n",
       "      <td>256</td>\n",
       "      <td>1024</td>\n",
       "      <td>0.01</td>\n",
       "      <td>5.0</td>\n",
       "      <td>5</td>\n",
       "      <td>2.001896</td>\n",
       "      <td>True</td>\n",
       "      <td>0.005</td>\n",
       "      <td>True</td>\n",
       "      <td>...</td>\n",
       "      <td>0.321166</td>\n",
       "      <td>0.005</td>\n",
       "      <td>280.0</td>\n",
       "      <td>2.237724</td>\n",
       "      <td>NaN</td>\n",
       "      <td>NaN</td>\n",
       "      <td>NaN</td>\n",
       "      <td>2.0</td>\n",
       "      <td>400</td>\n",
       "      <td>RadaDamp</td>\n",
       "    </tr>\n",
       "    <tr>\n",
       "      <td>3</td>\n",
       "      <td>1.621968e+09</td>\n",
       "      <td>256</td>\n",
       "      <td>1024</td>\n",
       "      <td>0.01</td>\n",
       "      <td>5.0</td>\n",
       "      <td>5</td>\n",
       "      <td>3.005708</td>\n",
       "      <td>True</td>\n",
       "      <td>0.005</td>\n",
       "      <td>True</td>\n",
       "      <td>...</td>\n",
       "      <td>0.285979</td>\n",
       "      <td>0.005</td>\n",
       "      <td>304.0</td>\n",
       "      <td>2.237724</td>\n",
       "      <td>NaN</td>\n",
       "      <td>NaN</td>\n",
       "      <td>NaN</td>\n",
       "      <td>3.0</td>\n",
       "      <td>500</td>\n",
       "      <td>RadaDamp</td>\n",
       "    </tr>\n",
       "    <tr>\n",
       "      <td>4</td>\n",
       "      <td>1.621968e+09</td>\n",
       "      <td>256</td>\n",
       "      <td>1024</td>\n",
       "      <td>0.01</td>\n",
       "      <td>5.0</td>\n",
       "      <td>5</td>\n",
       "      <td>4.009542</td>\n",
       "      <td>True</td>\n",
       "      <td>0.005</td>\n",
       "      <td>True</td>\n",
       "      <td>...</td>\n",
       "      <td>0.348318</td>\n",
       "      <td>0.005</td>\n",
       "      <td>330.0</td>\n",
       "      <td>2.237724</td>\n",
       "      <td>NaN</td>\n",
       "      <td>NaN</td>\n",
       "      <td>NaN</td>\n",
       "      <td>4.0</td>\n",
       "      <td>700</td>\n",
       "      <td>RadaDamp</td>\n",
       "    </tr>\n",
       "  </tbody>\n",
       "</table>\n",
       "<p>5 rows × 72 columns</p>\n",
       "</div>"
      ],
      "text/plain": [
       "     epoch_time  initial_batch_size  max_batch_size  batch_growth_rate  \\\n",
       "0  1.621967e+09                 256            1024               0.01   \n",
       "1  1.621968e+09                 256            1024               0.01   \n",
       "2  1.621968e+09                 256            1024               0.01   \n",
       "3  1.621968e+09                 256            1024               0.01   \n",
       "4  1.621968e+09                 256            1024               0.01   \n",
       "\n",
       "   dampingfactor  dampingdelay    epochs  verbose     lr  no_cuda  ...  \\\n",
       "0            5.0             5  0.000000     True  0.005     True  ...   \n",
       "1            5.0             5  1.001646     True  0.005     True  ...   \n",
       "2            5.0             5  2.001896     True  0.005     True  ...   \n",
       "3            5.0             5  3.005708     True  0.005     True  ...   \n",
       "4            5.0             5  4.009542     True  0.005     True  ...   \n",
       "\n",
       "   step_time    lr_ batch_size_ _initial_factor  opt_param_lr_decay  \\\n",
       "0        NaN    NaN         NaN             NaN                 NaN   \n",
       "1   0.265678  0.005       260.0        2.237724                 NaN   \n",
       "2   0.321166  0.005       280.0        2.237724                 NaN   \n",
       "3   0.285979  0.005       304.0        2.237724                 NaN   \n",
       "4   0.348318  0.005       330.0        2.237724                 NaN   \n",
       "\n",
       "   opt_param_eps  opt_param_initial_accumulator_value  epochs_binned  \\\n",
       "0            NaN                                  NaN            0.0   \n",
       "1            NaN                                  NaN            1.0   \n",
       "2            NaN                                  NaN            2.0   \n",
       "3            NaN                                  NaN            3.0   \n",
       "4            NaN                                  NaN            4.0   \n",
       "\n",
       "   model_updates_binned  Optimizer  \n",
       "0                     0   RadaDamp  \n",
       "1                   200   RadaDamp  \n",
       "2                   400   RadaDamp  \n",
       "3                   500   RadaDamp  \n",
       "4                   700   RadaDamp  \n",
       "\n",
       "[5 rows x 72 columns]"
      ]
     },
     "execution_count": 4,
     "metadata": {},
     "output_type": "execute_result"
    }
   ],
   "source": [
    "df.head()"
   ]
  },
  {
   "cell_type": "code",
   "execution_count": 5,
   "metadata": {},
   "outputs": [],
   "source": [
    "def lineplot(\n",
    "    *, x, y, hue, hue_order, ax, data, aggfunc=\"mean\",\n",
    "):\n",
    "    for h in hue_order:\n",
    "        show = data[data[hue] == h]\n",
    "        if not len(show):\n",
    "            continue\n",
    "        middle = show.pivot_table(index=x, values=y, aggfunc=aggfunc)\n",
    "        ax.plot(middle.index, middle.to_numpy(), label=h)\n",
    "    return ax\n",
    "\n",
    "PERC_FORMAT = plt.FuncFormatter(lambda x, _: f\"{int(100 * x)}%\")\n",
    "MU_FORMAT = plt.FuncFormatter(lambda x, _: f\"{int(x / 1000)}\")\n"
   ]
  },
  {
   "cell_type": "code",
   "execution_count": 6,
   "metadata": {},
   "outputs": [
    {
     "data": {
      "image/png": "[encoded data removed]",
      "text/plain": [
       "<Figure size 216x216 with 1 Axes>"
      ]
     },
     "metadata": {
      "needs_background": "light"
     },
     "output_type": "display_data"
    }
   ],
   "source": [
    "w = 3\n",
    "fig, ax = plt.subplots(figsize=(w, w))\n",
    "ax = lineplot(\n",
    "    x=\"epochs_binned\",\n",
    "    y=\"test_accuracy\",\n",
    "    hue=\"Optimizer\",\n",
    "    hue_order=HUE_ORDER,\n",
    "    ax=ax,\n",
    "    data=df,\n",
    ")\n",
    "ax.set_ylim(*ACC_LIM)\n",
    "ax.grid(alpha=0.5)\n",
    "ax.yaxis.set_major_formatter(PERC_FORMAT)\n",
    "ax.set_ylabel(\"Test accuracy\")\n",
    "ax.set_xlabel(\"Epochs (binned)\")\n",
    "fig.savefig(\"epochs-acc.png\", dpi=300, bbox_inches=\"tight\")"
   ]
  },
  {
   "cell_type": "code",
   "execution_count": 14,
   "metadata": {},
   "outputs": [
    {
     "data": {
      "image/png": "[encoded data removed]",
      "text/plain": [
       "<Figure size 216x216 with 1 Axes>"
      ]
     },
     "metadata": {
      "needs_background": "light"
     },
     "output_type": "display_data"
    }
   ],
   "source": [
    "fig, ax = plt.subplots(figsize=(w, w))\n",
    "ax = lineplot(\n",
    "    x=\"model_updates_binned\",\n",
    "    y=\"test_accuracy\",\n",
    "    hue=\"Optimizer\",\n",
    "    hue_order=HUE_ORDER,\n",
    "    ax=ax,\n",
    "    data=df,\n",
    ")\n",
    "# ax.legend(loc=\"best\")\n",
    "ax.set_ylim(*ACC_LIM)\n",
    "ax.set_xlim(0, None)\n",
    "ax.yaxis.set_major_formatter(PERC_FORMAT)\n",
    "ax.xaxis.set_major_formatter(MU_FORMAT)\n",
    "\n",
    "ax.grid(alpha=0.5)\n",
    "ax.set_ylabel(\"Test accuracy\")\n",
    "ax.set_xlabel(\"Model updates\\n(thousands, binned)\")\n",
    "fig.savefig(\"acc_mu.png\", dpi=300, bbox_inches=\"tight\")"
   ]
  },
  {
   "cell_type": "code",
   "execution_count": 13,
   "metadata": {},
   "outputs": [
    {
     "data": {
      "text/plain": [
       "<matplotlib.legend.Legend at 0x7fdc26a22950>"
      ]
     },
     "execution_count": 13,
     "metadata": {},
     "output_type": "execute_result"
    },
    {
     "data": {
      "image/png": "[encoded data removed]",
      "text/plain": [
       "<Figure size 216x216 with 1 Axes>"
      ]
     },
     "metadata": {
      "needs_background": "light"
     },
     "output_type": "display_data"
    }
   ],
   "source": [
    "fig, ax = plt.subplots(figsize=(w, w))\n",
    "ax = lineplot(\n",
    "    x=\"epochs\",\n",
    "    y=\"batch_size_\",\n",
    "    hue=\"Optimizer\",\n",
    "    hue_order=HUE_ORDER,\n",
    "    ax=ax,\n",
    "    data=df,\n",
    ")\n",
    "ax.set_yscale(\"log\", basey=2)\n",
    "ax.grid(alpha=0.6)\n",
    "ax.set_ylabel(\"Batch size\")\n",
    "ax.set_xlabel(\"Epochs (binned)\")\n",
    "ylocs = [2**(i/2) for i in range(8, 30)]\n",
    "ax.yaxis.set_major_locator(plt.FixedLocator(ylocs))\n",
    "def _log_fmt(x, _):\n",
    "    pwr = np.log2(x)\n",
    "    if abs(pwr % 1.0) < 0.1:\n",
    "        pwr = int(pwr)\n",
    "    return \"$2^{\" + str(pwr) + \"}$\"\n",
    "ax.yaxis.set_major_formatter(plt.FuncFormatter(_log_fmt))\n",
    "fig.savefig(\"bs.png\", dpi=300, bbox_inches=\"tight\")\n",
    "ax.legend(loc=\"best\")\n"
   ]
  },
  {
   "cell_type": "code",
   "execution_count": 10,
   "metadata": {},
   "outputs": [
    {
     "name": "stdout",
     "output_type": "stream",
     "text": [
      "[16.0, 22.627416997969522, 32.0, 45.254833995939045, 64.0, 90.50966799187809, 128.0, 181.01933598375618, 256.0, 362.03867196751236, 512.0, 724.0773439350247, 1024.0, 1448.1546878700494, 2048.0, 2896.309375740099, 4096.0, 5792.618751480198, 8192.0, 11585.237502960395, 16384.0, 23170.47500592079]\n"
     ]
    },
    {
     "data": {
      "image/png": "[encoded data removed]",
      "text/plain": [
       "<Figure size 216x216 with 1 Axes>"
      ]
     },
     "metadata": {
      "needs_background": "light"
     },
     "output_type": "display_data"
    }
   ],
   "source": [
    "fig, ax = plt.subplots(figsize=(w, w))\n",
    "ax = lineplot(\n",
    "    x=\"model_updates_binned\",\n",
    "    y=\"batch_size_\",\n",
    "    hue=\"Optimizer\",\n",
    "    hue_order=HUE_ORDER,\n",
    "    ax=ax,\n",
    "    data=df,\n",
    ")\n",
    "ax.set_yscale(\"log\", basey=2)\n",
    "ax.set_xlim(0, 10e3)\n",
    "ax.grid(alpha=0.6)\n",
    "ax.xaxis.set_major_formatter(MU_FORMAT)\n",
    "ax.set_ylabel(\"Batch size\")\n",
    "ax.set_xlabel(\"Model updates (binned, thousands)\")\n",
    "ylocs = [2**(i/2) for i in range(8, 30)]\n",
    "print(ylocs)\n",
    "# [i/2 for i in range(8, 20)]\n",
    "ax.yaxis.set_major_locator(plt.FixedLocator(ylocs))\n",
    "# ax.set_ylim(None, 2**10.1)\n",
    "def _log_fmt(x, _):\n",
    "    pwr = np.log2(x)\n",
    "    if abs(pwr % 1.0) < 0.1:\n",
    "        pwr = int(pwr)\n",
    "    return \"$2^{\" + str(pwr) + \"}$\"\n",
    "ax.yaxis.set_major_formatter(plt.FuncFormatter(_log_fmt))\n",
    "\n",
    "\n",
    "# ax.legend(loc=\"best\")\n",
    "# ax.set_ylim(0.84, 0.92)\n",
    "# ax.set_xlim(0, 15e3)\n",
    "# ax.yaxis.set_major_formatter(PERC_FORMAT)\n",
    "# ax.grid(alpha=0.5)\n",
    "# ax.set_ylabel(\"Test accuracy\")\n",
    "# ax.set_xlabel(\"Model updates (binned)\")\n",
    "# # ax.set_xscale(\"log\", basex=2)"
   ]
  },
  {
   "cell_type": "code",
   "execution_count": 11,
   "metadata": {},
   "outputs": [
    {
     "data": {
      "image/png": "[encoded data removed]",
      "text/plain": [
       "<Figure size 216x216 with 1 Axes>"
      ]
     },
     "metadata": {
      "needs_background": "light"
     },
     "output_type": "display_data"
    }
   ],
   "source": [
    "df[\"model_updates_binned\"] = np.round(df[\"model_updates\"], decimals=-2)\n",
    "\n",
    "fig, ax = plt.subplots(figsize=(w, w))\n",
    "ax = lineplot(\n",
    "    x=\"model_updates_binned\",\n",
    "    y=\"test_loss\",\n",
    "    hue=\"Optimizer\",\n",
    "    data=df,\n",
    "    hue_order=HUE_ORDER,\n",
    "    ax=ax,\n",
    ")\n",
    "# ax.set_ylim(0.84, 0.95)\n",
    "# ax.yaxis.set_major_formatter(PERC_FORMAT)\n",
    "\n",
    "ax.set_ylim(None, 0.5)\n",
    "ax.grid(alpha=0.5)\n",
    "# ax.set_xscale(\"log\", basex=2)"
   ]
  },
  {
   "cell_type": "code",
   "execution_count": null,
   "metadata": {},
   "outputs": [],
   "source": []
  }
 ],
 "metadata": {
  "kernelspec": {
   "display_name": "Python 3",
   "language": "python",
   "name": "python3"
  },
  "language_info": {
   "codemirror_mode": {
    "name": "ipython",
    "version": 3
   },
   "file_extension": ".py",
   "mimetype": "text/x-python",
   "name": "python",
   "nbconvert_exporter": "python",
   "pygments_lexer": "ipython3",
   "version": "3.7.4"
  }
 },
 "nbformat": 4,
 "nbformat_minor": 4
}
