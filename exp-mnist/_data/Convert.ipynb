{
 "cells": [
  {
   "cell_type": "code",
   "execution_count": 1,
   "metadata": {},
   "outputs": [],
   "source": [
    "import pandas as pd"
   ]
  },
  {
   "cell_type": "code",
   "execution_count": 2,
   "metadata": {},
   "outputs": [],
   "source": [
    "import pandas as pd\n",
    "from pathlib import Path\n",
    "\n",
    "def trim(f):\n",
    "    df = pd.read_parquet(f)\n",
    "    cols = [\"model_updates\", \"batch_size\", \"damper\", \"epochs\"]\n",
    "    out_df = df[cols].copy()\n",
    "    seed = int(str(f.name).split(\"-\")[0])\n",
    "    out_df[\"seed\"] = seed\n",
    "    return out_df"
   ]
  },
  {
   "cell_type": "code",
   "execution_count": 3,
   "metadata": {},
   "outputs": [
    {
     "name": "stdout",
     "output_type": "stream",
     "text": [
      "0.0\n",
      "0.1\n",
      "0.2\n",
      "0.3\n",
      "0.4\n",
      "0.5\n",
      "0.6\n",
      "0.7\n",
      "0.8\n",
      "0.9\n"
     ]
    }
   ],
   "source": [
    "train_dir = Path(\"2020-05-01\") / \"train\"\n",
    "train_dfs = list(train_dir.glob(\"*.parquet\"))\n",
    "out_dfs = []\n",
    "for k, train_df in enumerate(train_dfs):\n",
    "    if k % 100 == 0:\n",
    "        print(k / len(train_dfs))\n",
    "    out_df = trim(train_df)\n",
    "    out_dfs.append(out_df)"
   ]
  },
  {
   "cell_type": "code",
   "execution_count": 4,
   "metadata": {},
   "outputs": [
    {
     "data": {
      "text/plain": [
       "849.2406463623047"
      ]
     },
     "execution_count": 4,
     "metadata": {},
     "output_type": "execute_result"
    }
   ],
   "source": [
    "sum(out_df.memory_usage().sum() for out_df in out_dfs) / 1024**2"
   ]
  },
  {
   "cell_type": "code",
   "execution_count": 14,
   "metadata": {},
   "outputs": [],
   "source": [
    "out_df = pd.concat(out_dfs)"
   ]
  },
  {
   "cell_type": "code",
   "execution_count": 15,
   "metadata": {},
   "outputs": [
    {
     "data": {
      "text/plain": [
       "model_updates      int64\n",
       "batch_size         int64\n",
       "damper            object\n",
       "epochs           float64\n",
       "seed               int64\n",
       "dtype: object"
      ]
     },
     "execution_count": 15,
     "metadata": {},
     "output_type": "execute_result"
    }
   ],
   "source": [
    "out_df.dtypes"
   ]
  },
  {
   "cell_type": "code",
   "execution_count": 16,
   "metadata": {},
   "outputs": [
    {
     "data": {
      "text/html": [
       "<div>\n",
       "<style scoped>\n",
       "    .dataframe tbody tr th:only-of-type {\n",
       "        vertical-align: middle;\n",
       "    }\n",
       "\n",
       "    .dataframe tbody tr th {\n",
       "        vertical-align: top;\n",
       "    }\n",
       "\n",
       "    .dataframe thead th {\n",
       "        text-align: right;\n",
       "    }\n",
       "</style>\n",
       "<table border=\"1\" class=\"dataframe\">\n",
       "  <thead>\n",
       "    <tr style=\"text-align: right;\">\n",
       "      <th></th>\n",
       "      <th>model_updates</th>\n",
       "      <th>batch_size</th>\n",
       "      <th>epochs</th>\n",
       "      <th>seed</th>\n",
       "    </tr>\n",
       "  </thead>\n",
       "  <tbody>\n",
       "    <tr>\n",
       "      <th>count</th>\n",
       "      <td>2.225913e+07</td>\n",
       "      <td>2.225913e+07</td>\n",
       "      <td>2.225913e+07</td>\n",
       "      <td>2.225913e+07</td>\n",
       "    </tr>\n",
       "    <tr>\n",
       "      <th>mean</th>\n",
       "      <td>1.369796e+04</td>\n",
       "      <td>4.062910e+02</td>\n",
       "      <td>6.310809e+01</td>\n",
       "      <td>1.099498e+03</td>\n",
       "    </tr>\n",
       "    <tr>\n",
       "      <th>std</th>\n",
       "      <td>9.922940e+03</td>\n",
       "      <td>5.550593e+02</td>\n",
       "      <td>4.719939e+01</td>\n",
       "      <td>5.773160e+01</td>\n",
       "    </tr>\n",
       "    <tr>\n",
       "      <th>min</th>\n",
       "      <td>1.000000e+00</td>\n",
       "      <td>3.200000e+01</td>\n",
       "      <td>5.333333e-04</td>\n",
       "      <td>1.000000e+03</td>\n",
       "    </tr>\n",
       "    <tr>\n",
       "      <th>25%</th>\n",
       "      <td>5.565000e+03</td>\n",
       "      <td>2.560000e+02</td>\n",
       "      <td>1.693013e+01</td>\n",
       "      <td>1.050000e+03</td>\n",
       "    </tr>\n",
       "    <tr>\n",
       "      <th>50%</th>\n",
       "      <td>1.113000e+04</td>\n",
       "      <td>2.560000e+02</td>\n",
       "      <td>5.896533e+01</td>\n",
       "      <td>1.099000e+03</td>\n",
       "    </tr>\n",
       "    <tr>\n",
       "      <th>75%</th>\n",
       "      <td>2.133900e+04</td>\n",
       "      <td>2.560000e+02</td>\n",
       "      <td>1.043518e+02</td>\n",
       "      <td>1.149000e+03</td>\n",
       "    </tr>\n",
       "    <tr>\n",
       "      <th>max</th>\n",
       "      <td>3.525000e+04</td>\n",
       "      <td>4.096000e+03</td>\n",
       "      <td>1.510033e+02</td>\n",
       "      <td>1.199000e+03</td>\n",
       "    </tr>\n",
       "  </tbody>\n",
       "</table>\n",
       "</div>"
      ],
      "text/plain": [
       "       model_updates    batch_size        epochs          seed\n",
       "count   2.225913e+07  2.225913e+07  2.225913e+07  2.225913e+07\n",
       "mean    1.369796e+04  4.062910e+02  6.310809e+01  1.099498e+03\n",
       "std     9.922940e+03  5.550593e+02  4.719939e+01  5.773160e+01\n",
       "min     1.000000e+00  3.200000e+01  5.333333e-04  1.000000e+03\n",
       "25%     5.565000e+03  2.560000e+02  1.693013e+01  1.050000e+03\n",
       "50%     1.113000e+04  2.560000e+02  5.896533e+01  1.099000e+03\n",
       "75%     2.133900e+04  2.560000e+02  1.043518e+02  1.149000e+03\n",
       "max     3.525000e+04  4.096000e+03  1.510033e+02  1.199000e+03"
      ]
     },
     "execution_count": 16,
     "metadata": {},
     "output_type": "execute_result"
    }
   ],
   "source": [
    "out_df.describe()"
   ]
  },
  {
   "cell_type": "code",
   "execution_count": 17,
   "metadata": {},
   "outputs": [
    {
     "data": {
      "text/plain": [
       "1018.9422912597656"
      ]
     },
     "execution_count": 17,
     "metadata": {},
     "output_type": "execute_result"
    }
   ],
   "source": [
    "out_df.memory_usage().sum() / 1024**2"
   ]
  },
  {
   "cell_type": "code",
   "execution_count": 18,
   "metadata": {},
   "outputs": [],
   "source": [
    "dtypes = {\n",
    "    \"model_updates\": \"uint16\",\n",
    "    \"batch_size\": \"uint16\",\n",
    "    \"epochs\": \"float32\",\n",
    "    \"seed\": \"int16\",\n",
    "}\n",
    "for c, dtype in dtypes.items():\n",
    "    out_df[c] = out_df[c].astype(dtype)"
   ]
  },
  {
   "cell_type": "code",
   "execution_count": 19,
   "metadata": {},
   "outputs": [
    {
     "data": {
      "text/html": [
       "<div>\n",
       "<style scoped>\n",
       "    .dataframe tbody tr th:only-of-type {\n",
       "        vertical-align: middle;\n",
       "    }\n",
       "\n",
       "    .dataframe tbody tr th {\n",
       "        vertical-align: top;\n",
       "    }\n",
       "\n",
       "    .dataframe thead th {\n",
       "        text-align: right;\n",
       "    }\n",
       "</style>\n",
       "<table border=\"1\" class=\"dataframe\">\n",
       "  <thead>\n",
       "    <tr style=\"text-align: right;\">\n",
       "      <th></th>\n",
       "      <th>model_updates</th>\n",
       "      <th>batch_size</th>\n",
       "      <th>damper</th>\n",
       "      <th>epochs</th>\n",
       "      <th>seed</th>\n",
       "    </tr>\n",
       "  </thead>\n",
       "  <tbody>\n",
       "    <tr>\n",
       "      <th>0</th>\n",
       "      <td>1</td>\n",
       "      <td>256</td>\n",
       "      <td>adagrad</td>\n",
       "      <td>0.004267</td>\n",
       "      <td>1096</td>\n",
       "    </tr>\n",
       "    <tr>\n",
       "      <th>1</th>\n",
       "      <td>2</td>\n",
       "      <td>256</td>\n",
       "      <td>adagrad</td>\n",
       "      <td>0.008533</td>\n",
       "      <td>1096</td>\n",
       "    </tr>\n",
       "    <tr>\n",
       "      <th>2</th>\n",
       "      <td>3</td>\n",
       "      <td>256</td>\n",
       "      <td>adagrad</td>\n",
       "      <td>0.012800</td>\n",
       "      <td>1096</td>\n",
       "    </tr>\n",
       "    <tr>\n",
       "      <th>3</th>\n",
       "      <td>4</td>\n",
       "      <td>256</td>\n",
       "      <td>adagrad</td>\n",
       "      <td>0.017067</td>\n",
       "      <td>1096</td>\n",
       "    </tr>\n",
       "    <tr>\n",
       "      <th>4</th>\n",
       "      <td>5</td>\n",
       "      <td>256</td>\n",
       "      <td>adagrad</td>\n",
       "      <td>0.021333</td>\n",
       "      <td>1096</td>\n",
       "    </tr>\n",
       "  </tbody>\n",
       "</table>\n",
       "</div>"
      ],
      "text/plain": [
       "   model_updates  batch_size   damper    epochs  seed\n",
       "0              1         256  adagrad  0.004267  1096\n",
       "1              2         256  adagrad  0.008533  1096\n",
       "2              3         256  adagrad  0.012800  1096\n",
       "3              4         256  adagrad  0.017067  1096\n",
       "4              5         256  adagrad  0.021333  1096"
      ]
     },
     "execution_count": 19,
     "metadata": {},
     "output_type": "execute_result"
    }
   ],
   "source": [
    "out_df.head()"
   ]
  },
  {
   "cell_type": "code",
   "execution_count": 20,
   "metadata": {},
   "outputs": [
    {
     "data": {
      "text/plain": [
       "551.927074432373"
      ]
     },
     "execution_count": 20,
     "metadata": {},
     "output_type": "execute_result"
    }
   ],
   "source": [
    "out_df.memory_usage().sum() / 1024**2"
   ]
  },
  {
   "cell_type": "code",
   "execution_count": 21,
   "metadata": {},
   "outputs": [],
   "source": [
    "out_df.to_parquet(\"train-df-squashed.parquet\", engine=\"pyarrow\", compression=\"zstd\", compression_level=10)"
   ]
  },
  {
   "cell_type": "code",
   "execution_count": 22,
   "metadata": {},
   "outputs": [
    {
     "data": {
      "text/html": [
       "<div>\n",
       "<style scoped>\n",
       "    .dataframe tbody tr th:only-of-type {\n",
       "        vertical-align: middle;\n",
       "    }\n",
       "\n",
       "    .dataframe tbody tr th {\n",
       "        vertical-align: top;\n",
       "    }\n",
       "\n",
       "    .dataframe thead th {\n",
       "        text-align: right;\n",
       "    }\n",
       "</style>\n",
       "<table border=\"1\" class=\"dataframe\">\n",
       "  <thead>\n",
       "    <tr style=\"text-align: right;\">\n",
       "      <th></th>\n",
       "      <th>model_updates</th>\n",
       "      <th>batch_size</th>\n",
       "      <th>epochs</th>\n",
       "      <th>seed</th>\n",
       "    </tr>\n",
       "  </thead>\n",
       "  <tbody>\n",
       "    <tr>\n",
       "      <th>count</th>\n",
       "      <td>2.225913e+07</td>\n",
       "      <td>2.225913e+07</td>\n",
       "      <td>2.225913e+07</td>\n",
       "      <td>2.225913e+07</td>\n",
       "    </tr>\n",
       "    <tr>\n",
       "      <th>mean</th>\n",
       "      <td>1.369796e+04</td>\n",
       "      <td>4.062910e+02</td>\n",
       "      <td>6.310810e+01</td>\n",
       "      <td>1.099498e+03</td>\n",
       "    </tr>\n",
       "    <tr>\n",
       "      <th>std</th>\n",
       "      <td>9.922940e+03</td>\n",
       "      <td>5.550593e+02</td>\n",
       "      <td>4.719939e+01</td>\n",
       "      <td>5.773160e+01</td>\n",
       "    </tr>\n",
       "    <tr>\n",
       "      <th>min</th>\n",
       "      <td>1.000000e+00</td>\n",
       "      <td>3.200000e+01</td>\n",
       "      <td>5.333333e-04</td>\n",
       "      <td>1.000000e+03</td>\n",
       "    </tr>\n",
       "    <tr>\n",
       "      <th>25%</th>\n",
       "      <td>5.565000e+03</td>\n",
       "      <td>2.560000e+02</td>\n",
       "      <td>1.693013e+01</td>\n",
       "      <td>1.050000e+03</td>\n",
       "    </tr>\n",
       "    <tr>\n",
       "      <th>50%</th>\n",
       "      <td>1.113000e+04</td>\n",
       "      <td>2.560000e+02</td>\n",
       "      <td>5.896533e+01</td>\n",
       "      <td>1.099000e+03</td>\n",
       "    </tr>\n",
       "    <tr>\n",
       "      <th>75%</th>\n",
       "      <td>2.133900e+04</td>\n",
       "      <td>2.560000e+02</td>\n",
       "      <td>1.043518e+02</td>\n",
       "      <td>1.149000e+03</td>\n",
       "    </tr>\n",
       "    <tr>\n",
       "      <th>max</th>\n",
       "      <td>3.525000e+04</td>\n",
       "      <td>4.096000e+03</td>\n",
       "      <td>1.510033e+02</td>\n",
       "      <td>1.199000e+03</td>\n",
       "    </tr>\n",
       "  </tbody>\n",
       "</table>\n",
       "</div>"
      ],
      "text/plain": [
       "       model_updates    batch_size        epochs          seed\n",
       "count   2.225913e+07  2.225913e+07  2.225913e+07  2.225913e+07\n",
       "mean    1.369796e+04  4.062910e+02  6.310810e+01  1.099498e+03\n",
       "std     9.922940e+03  5.550593e+02  4.719939e+01  5.773160e+01\n",
       "min     1.000000e+00  3.200000e+01  5.333333e-04  1.000000e+03\n",
       "25%     5.565000e+03  2.560000e+02  1.693013e+01  1.050000e+03\n",
       "50%     1.113000e+04  2.560000e+02  5.896533e+01  1.099000e+03\n",
       "75%     2.133900e+04  2.560000e+02  1.043518e+02  1.149000e+03\n",
       "max     3.525000e+04  4.096000e+03  1.510033e+02  1.199000e+03"
      ]
     },
     "execution_count": 22,
     "metadata": {},
     "output_type": "execute_result"
    }
   ],
   "source": [
    "out_df.describe()"
   ]
  },
  {
   "cell_type": "code",
   "execution_count": null,
   "metadata": {},
   "outputs": [],
   "source": []
  }
 ],
 "metadata": {
  "kernelspec": {
   "display_name": "Python 3",
   "language": "python",
   "name": "python3"
  },
  "language_info": {
   "codemirror_mode": {
    "name": "ipython",
    "version": 3
   },
   "file_extension": ".py",
   "mimetype": "text/x-python",
   "name": "python",
   "nbconvert_exporter": "python",
   "pygments_lexer": "ipython3",
   "version": "3.7.4"
  }
 },
 "nbformat": 4,
 "nbformat_minor": 4
}
